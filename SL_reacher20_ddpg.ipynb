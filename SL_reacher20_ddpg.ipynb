{
 "cells": [
  {
   "cell_type": "markdown",
   "metadata": {},
   "source": [
    "# drlnd Project 2: Continuous Control, Second Version (20 agents)\n",
    "\n",
    "\n",
    "\n",
    "https://github.com/sliao-mi-luku/DeepRL-continuous-control-reachers-udacity-drlnd-p2\n",
    "\n",
    "\n",
    "Reinforcement learning environment by Unity ML-Agents\n",
    "\n",
    "This corresponds to Project #2 of Udacity's Deep Reinforcement Learning Nanodegree (drlnd)\\\n",
    "https://www.udacity.com/course/deep-reinforcement-learning-nanodegree--nd893\n",
    "\n",
    "The deep deterministeic policy gradients (DDPG) method is implemented for this project\n",
    "\n",
    "**Reference**: this code was inspired by:\n",
    "\n",
    "1. Udacity's Github repository **ddpg-pendulum**\\\n",
    "   https://github.com/udacity/deep-reinforcement-learning/tree/master/ddpg-pendulum\n",
    "\n",
    "\n",
    "2. Udacity's project workspace (jupyter notebook)"
   ]
  },
  {
   "cell_type": "markdown",
   "metadata": {},
   "source": [
    "## Box 1: Starting the environment\n",
    "\n",
    "Run the box below to import necessary packages.\n",
    "\n",
    "In the command `env = UnityEnvironment(file_name = '...')` paste the path to `Reacher.exe`\n",
    "\n",
    "For example: `env = UnityEnvironment(file_name = './Reacher_20Agent_Windows_x86_64/Reacher.exe')`\n"
   ]
  },
  {
   "cell_type": "code",
   "execution_count": 1,
   "metadata": {},
   "outputs": [
    {
     "name": "stdout",
     "output_type": "stream",
     "text": [
      "\n",
      "Device: cuda:0\n"
     ]
    },
    {
     "name": "stderr",
     "output_type": "stream",
     "text": [
      "INFO:unityagents:\n",
      "'Academy' started successfully!\n",
      "Unity Academy name: Academy\n",
      "        Number of Brains: 1\n",
      "        Number of External Brains : 1\n",
      "        Lesson number : 0\n",
      "        Reset Parameters :\n",
      "\t\tgoal_speed -> 1.0\n",
      "\t\tgoal_size -> 5.0\n",
      "Unity brain name: ReacherBrain\n",
      "        Number of Visual Observations (per agent): 0\n",
      "        Vector Observation space type: continuous\n",
      "        Vector Observation space size (per agent): 33\n",
      "        Number of stacked Vector Observation: 1\n",
      "        Vector Action space type: continuous\n",
      "        Vector Action space size (per agent): 4\n",
      "        Vector Action descriptions: , , , \n"
     ]
    },
    {
     "name": "stdout",
     "output_type": "stream",
     "text": [
      "Number of agents: 20\n",
      "\n",
      "Size of each action: 4\n",
      "\n",
      "There are 20 agents. Each observes a state with length: 33\n",
      "\n",
      "The state for the first agent looks like: [ 0.00000000e+00 -4.00000000e+00  0.00000000e+00  1.00000000e+00\n",
      " -0.00000000e+00 -0.00000000e+00 -4.37113883e-08  0.00000000e+00\n",
      "  0.00000000e+00  0.00000000e+00  0.00000000e+00  0.00000000e+00\n",
      "  0.00000000e+00  0.00000000e+00 -1.00000000e+01  0.00000000e+00\n",
      "  1.00000000e+00 -0.00000000e+00 -0.00000000e+00 -4.37113883e-08\n",
      "  0.00000000e+00  0.00000000e+00  0.00000000e+00  0.00000000e+00\n",
      "  0.00000000e+00  0.00000000e+00  5.75471878e+00 -1.00000000e+00\n",
      "  5.55726624e+00  0.00000000e+00  1.00000000e+00  0.00000000e+00\n",
      " -1.68164849e-01]\n",
      "\n",
      "Box 1 done!\n"
     ]
    }
   ],
   "source": [
    "import random\n",
    "import torch\n",
    "import torch.nn as nn\n",
    "import torch.nn.functional as F\n",
    "import torch.optim as optim\n",
    "import numpy as np\n",
    "import matplotlib.pyplot as plt\n",
    "\n",
    "from collections import deque, namedtuple\n",
    "from unityagents import UnityEnvironment\n",
    "from networkModels import ActorNetwork, CriticNetwork\n",
    "from ddpgAgent import DDPG_Agent\n",
    "from buffer import Buffer\n",
    "from noiseModels import OUNoise, plot_OU\n",
    "from ddpg_singleAgentMode import DDPG\n",
    "\n",
    "device = torch.device(\"cuda:0\" if torch.cuda.is_available() else \"cpu\")\n",
    "print(\"\\nDevice: {}\".format(device))\n",
    "\n",
    "\n",
    "\"\"\"\n",
    "Starting the second version of the project (with 20 agents)\n",
    "\"\"\"\n",
    "# file_name = /the/path/to/Reacher.exe\n",
    "env = UnityEnvironment(file_name = './Reacher_20Agent_Windows_x86_64/Reacher.exe')\n",
    "\n",
    "\n",
    "\"\"\"\n",
    "Environments contain brains which are responsible for deciding the actions of their associated agents\n",
    "\"\"\"\n",
    "# get the default brain\n",
    "brain_name = env.brain_names[0]\n",
    "brain = env.brains[brain_name]\n",
    "\n",
    "\n",
    "\"\"\"\n",
    "The codes below were provided by Udacity, which will display some information of the environment\n",
    "\"\"\"\n",
    "# reset the environment (train_mode is set to False because we're not training)\n",
    "env_info = env.reset(train_mode=False)[brain_name]\n",
    "# number of agents (should be 20)\n",
    "num_agents = len(env_info.agents)\n",
    "print('Number of agents:', num_agents)\n",
    "# size of each action (should be 4)\n",
    "action_size = brain.vector_action_space_size\n",
    "print('\\nSize of each action:', action_size)\n",
    "# examine the state space (should be 33)\n",
    "states = env_info.vector_observations\n",
    "state_size = states.shape[1]\n",
    "print('\\nThere are {} agents. Each observes a state with length: {}'.format(states.shape[0], state_size))\n",
    "print('\\nThe state for the first agent looks like:', states[0])\n",
    "\n",
    "\n",
    "print(\"\\nBox 1 done!\")"
   ]
  },
  {
   "cell_type": "markdown",
   "metadata": {},
   "source": [
    "## Box 2: Setting parameters"
   ]
  },
  {
   "cell_type": "code",
   "execution_count": 2,
   "metadata": {},
   "outputs": [
    {
     "name": "stdout",
     "output_type": "stream",
     "text": [
      "\n",
      " Box 2 done!\n"
     ]
    }
   ],
   "source": [
    "num_agents = 20\n",
    "\n",
    "EPISODES = 1000\n",
    "\n",
    "PRINT_EVERY = 10\n",
    "\n",
    "# Actor and Critic networks\n",
    "actor_input_size = 33\n",
    "actor_output_size = 4\n",
    "actor_hidden_sizes = [400, 300]\n",
    "\n",
    "critic_state_size = 33\n",
    "critic_action_size = 4\n",
    "critic_hidden_sizes = [400, 300]\n",
    "\n",
    "# optimizers\n",
    "actor_lr = 1e-3\n",
    "critic_lr = 1e-4\n",
    "critic_L2_decay = 0.0\n",
    "\n",
    "# discounting\n",
    "gamma = 0.99\n",
    "\n",
    "# soft-updating\n",
    "tau = 1e-3\n",
    "\n",
    "# Ornstein–Uhlenbeck process\n",
    "ou_scale = 1.0\n",
    "ou_decay = 0.995\n",
    "ou_mu = 0.0\n",
    "ou_theta = 0.15\n",
    "ou_sigma = 0.10\n",
    "\n",
    "# buffer\n",
    "buffer_size = int(1e6)\n",
    "batch_size = 512\n",
    "\n",
    "# seed\n",
    "seed = 0\n",
    "random.seed(seed)\n",
    "np.random.seed(seed)\n",
    "\n",
    "\n",
    "print(\"\\n Box 2 done!\")"
   ]
  },
  {
   "cell_type": "markdown",
   "metadata": {},
   "source": [
    "## Box 3: Deep Deterministic Policy Gradients (DDPG)"
   ]
  },
  {
   "cell_type": "code",
   "execution_count": 3,
   "metadata": {
    "scrolled": true
   },
   "outputs": [
    {
     "name": "stdout",
     "output_type": "stream",
     "text": [
      "actor_hidden_sizes = [400, 300]\n",
      "actor_lr = 0.001\n",
      "critic_hidden_sizes = [400, 300]\n",
      "critic_lr = 0.0001\n",
      "critic_L2_decay = 0.0\n",
      "gamma = 0.99\n",
      "tau = 0.001\n",
      "ou_scale = 1.0\n",
      "ou_decay = 0.995\n",
      "ou_mu = 0.0\n",
      "ou_theta = 0.15\n",
      "ou_sigma = 0.1\n",
      "buffer_size = 1000000\n",
      "batch_size = 512\n",
      "\n",
      "\n",
      "\n",
      "Noise Process:\n"
     ]
    },
    {
     "data": {
      "image/png": "[encoded data removed]",
      "text/plain": [
       "<Figure size 432x288 with 1 Axes>"
      ]
     },
     "metadata": {
      "needs_background": "light"
     },
     "output_type": "display_data"
    },
    {
     "name": "stdout",
     "output_type": "stream",
     "text": [
      "\n",
      "\n",
      "Episode 10\tScore: 2.06\tAvg: 0.99\tA_loss: -0.109153\tC_loss: 0.000028\tou: 0.344\n",
      "Episode 20\tScore: 19.04\tAvg: 5.85\tA_loss: -0.217519\tC_loss: 0.000123\tou: 0.291\n",
      "Episode 30\tScore: 36.46\tAvg: 14.36\tA_loss: -0.545315\tC_loss: 0.000356\tou: 0.250\n",
      "Episode 40\tScore: 39.42\tAvg: 20.60\tA_loss: -0.951530\tC_loss: 0.000681\tou: 0.196\n",
      "Episode 50\tScore: 39.51\tAvg: 24.38\tA_loss: -1.348591\tC_loss: 0.002645\tou: 0.184\n",
      "Episode 60\tScore: 39.46\tAvg: 26.90\tA_loss: -1.766029\tC_loss: 0.000223\tou: 0.158\n",
      "Episode 70\tScore: 39.38\tAvg: 28.70\tA_loss: -2.095511\tC_loss: 0.003417\tou: 0.137\n",
      "Episode 80\tScore: 39.18\tAvg: 30.01\tA_loss: -2.335487\tC_loss: 0.000065\tou: 0.123\n",
      "Episode 90\tScore: 39.02\tAvg: 31.02\tA_loss: -2.513193\tC_loss: 0.003771\tou: 0.104\n",
      "Episode 100\tScore: 38.41\tAvg: 31.82\tA_loss: -2.688791\tC_loss: 0.000071\tou: 0.103\n",
      "\n",
      "\n",
      "Environment is solved after 0 episodes\n"
     ]
    },
    {
     "data": {
      "image/png": "[encoded data removed]",
      "text/plain": [
       "<Figure size 432x288 with 1 Axes>"
      ]
     },
     "metadata": {
      "needs_background": "light"
     },
     "output_type": "display_data"
    }
   ],
   "source": [
    "# set ou_scale = 1.0 again in case this box is executed more than once\n",
    "ou_scale = 1.0\n",
    "\n",
    "\n",
    "## print parameters\n",
    "print(\"actor_hidden_sizes = {}\".format(actor_hidden_sizes))\n",
    "print(\"actor_lr = {}\".format(actor_lr))\n",
    "print(\"critic_hidden_sizes = {}\".format(critic_hidden_sizes))\n",
    "print(\"critic_lr = {}\".format(critic_lr))\n",
    "print(\"critic_L2_decay = {}\".format(critic_L2_decay))\n",
    "print(\"gamma = {}\".format(gamma))\n",
    "print(\"tau = {}\".format(tau))\n",
    "print(\"ou_scale = {}\".format(ou_scale))\n",
    "print(\"ou_decay = {}\".format(ou_decay))\n",
    "print(\"ou_mu = {}\".format(ou_mu))\n",
    "print(\"ou_theta = {}\".format(ou_theta))\n",
    "print(\"ou_sigma = {}\".format(ou_sigma))\n",
    "print(\"buffer_size = {}\".format(buffer_size))\n",
    "print(\"batch_size = {}\\n\".format(batch_size))\n",
    "print(\"\\n\")\n",
    "\n",
    "\n",
    "## DDPG\n",
    "avg_score_deque = deque(maxlen = 100)\n",
    "avg_score_list = []\n",
    "\n",
    "AL_list = []\n",
    "CL_list = []\n",
    "\n",
    "buffer = Buffer(buffer_size, batch_size, seed)\n",
    "\n",
    "agents = DDPG(actor_input_size, actor_output_size, actor_hidden_sizes,\n",
    "                critic_state_size, critic_action_size, critic_hidden_sizes, seed,\n",
    "                actor_lr, critic_lr, critic_L2_decay, \n",
    "                gamma, tau)\n",
    "\n",
    "noise_process = OUNoise(int(num_agents*4), ou_mu, ou_theta, ou_sigma, seed)\n",
    "\n",
    "print(\"Noise Process:\")\n",
    "plot_OU(EPISODES, ou_scale, ou_decay, 1, ou_mu, ou_theta, ou_sigma, seed)\n",
    "print(\"\\n\")\n",
    "\n",
    "for ep in range(1, EPISODES+1):\n",
    "    \n",
    "    env_info = env.reset(train_mode = True)[brain_name]\n",
    "    states = env_info.vector_observations # [1, 33]\n",
    "    scores = 0\n",
    "    \n",
    "    t_step = 0\n",
    "    \n",
    "    noise_process.reset()\n",
    "    \n",
    "    while True:\n",
    "        \n",
    "        t_step += 1\n",
    "\n",
    "        states_tensor = torch.from_numpy(states).float().to(device)\n",
    "        \n",
    "        # generate noise\n",
    "        noise = noise_process.get_noise().reshape((num_agents, 4)) # [num_agents, 4]\n",
    "        noise *= ou_scale\n",
    "        noise = np.multiply(noise, np.random.choice([1, -1], size = (num_agents, 4)))\n",
    "            \n",
    "        # take actions (with noise, without back propagation)\n",
    "        actions = agents.get_action_by_actor_local(states_tensor, noise) # [num_agents, 4]\n",
    "            \n",
    "        noise_display = np.round(np.max(noise), 3)\n",
    "\n",
    "        env_info = env.step(actions)[brain_name]\n",
    "        next_states = env_info.vector_observations\n",
    "        rewards = env_info.rewards\n",
    "        dones = env_info.local_done\n",
    "        \n",
    "        # add into buffer\n",
    "        for agent_i in range(num_agents):\n",
    "            buffer.add(states[agent_i], actions[agent_i], rewards[agent_i], next_states[agent_i], dones[agent_i])\n",
    "        \n",
    "        scores += np.mean(np.array(rewards))\n",
    "        states = next_states\n",
    "        \n",
    "        # update\n",
    "        if len(buffer) >= batch_size:\n",
    "            replays = buffer.sample()\n",
    "            agents.update(0, replays)\n",
    "                            \n",
    "        if np.any(dones):\n",
    "            break\n",
    "    \n",
    "    # log individual scores\n",
    "    avg_score_list.append(scores)\n",
    "    avg_score_deque.append(scores)\n",
    "        \n",
    "    S = scores\n",
    "    AVGS = np.mean(avg_score_deque)\n",
    "    AL = np.round(agents.current_actor_loss, 6)\n",
    "    CL = np.round(agents.current_critic_loss, 6)\n",
    "    \n",
    "    AL_list.append(AL)\n",
    "    CL_list.append(CL)\n",
    "    \n",
    "    print(\"\\rEpisode {}\\tScore: {:.2f}\\tAvg: {:.2f}\\tA_loss: {:.6f}\\tC_loss: {:.6f}\\tou: {:.3f}\".format(\n",
    "        ep, S, AVGS, AL, CL, noise_display), end=\"\")\n",
    "    \n",
    "    if ep % PRINT_EVERY == 0:\n",
    "        print(\"\\rEpisode {}\\tScore: {:.2f}\\tAvg: {:.2f}\\tA_loss: {:.6f}\\tC_loss: {:.6f}\\tou: {:.3f}\".format(\n",
    "            ep, S, AVGS, AL, CL, noise_display))\n",
    "    \n",
    "    if AVGS > 30 and len(avg_score_deque) >= 100:\n",
    "        print(\"\\n\\nEnvironment is solved after {} episodes\".format(ep-100))\n",
    "        break\n",
    "        \n",
    "    ou_scale *= ou_decay\n",
    "    \n",
    "\n",
    "## Save the weights\n",
    "torch.save(agents.players[0].actor_local.state_dict(), 'checkpoint_actor.pth')\n",
    "torch.save(agents.players[0].critic_local.state_dict(), 'checkpoint_critic.pth')\n",
    "\n",
    "plt.figure()\n",
    "plt.plot(range(len(avg_score_list)), avg_score_list)\n",
    "plt.plot([0, len(avg_score_list)-1], [30.0, 30.0], 'r--')\n",
    "plt.title(\"Score history\")\n",
    "plt.xlabel(\"Episodes\")\n",
    "plt.ylabel(\"Scores\")\n",
    "plt.show()\n"
   ]
  },
  {
   "cell_type": "markdown",
   "metadata": {},
   "source": [
    "## Box 4: Loading trained weights"
   ]
  },
  {
   "cell_type": "code",
   "execution_count": 4,
   "metadata": {},
   "outputs": [
    {
     "name": "stdout",
     "output_type": "stream",
     "text": [
      "Total score (averaged over agents) this episode: 39.45\n"
     ]
    }
   ],
   "source": [
    "## Test the saved weights\n",
    "\n",
    "agents = DDPG(actor_input_size, actor_output_size, actor_hidden_sizes,\n",
    "                critic_state_size, critic_action_size, critic_hidden_sizes, seed,\n",
    "                actor_lr, critic_lr, critic_L2_decay, \n",
    "                gamma, tau)\n",
    "\n",
    "actor_weights = torch.load('checkpoint_actor.pth')\n",
    "critic_weights = torch.load('checkpoint_critic.pth')\n",
    "\n",
    "agents.players[0].actor_local.load_state_dict(actor_weights)\n",
    "agents.players[0].critic_local.load_state_dict(critic_weights)\n",
    "\n",
    "env_info = env.reset(train_mode = False)[brain_name] \n",
    "states = env_info.vector_observations\n",
    "scores = 0\n",
    "\n",
    "while True:\n",
    "    states_tensor = torch.from_numpy(states).float().to(device)\n",
    "    actions = agents.players[0].actor_local(states_tensor).cpu().detach().numpy()\n",
    "    env_info = env.step(actions)[brain_name] \n",
    "    next_states = env_info.vector_observations\n",
    "    rewards = env_info.rewards\n",
    "    dones = env_info.local_done \n",
    "    scores += sum(rewards)/20.0\n",
    "    states = next_states\n",
    "    if np.any(dones):\n",
    "        break\n",
    "        \n",
    "print('Total score (averaged over agents) this episode: {:.2f}'.format(scores))\n"
   ]
  },
  {
   "cell_type": "code",
   "execution_count": 5,
   "metadata": {},
   "outputs": [],
   "source": [
    "env.close()"
   ]
  }
 ],
 "metadata": {
  "kernelspec": {
   "display_name": "drlnd",
   "language": "python",
   "name": "drlnd"
  },
  "language_info": {
   "codemirror_mode": {
    "name": "ipython",
    "version": 3
   },
   "file_extension": ".py",
   "mimetype": "text/x-python",
   "name": "python",
   "nbconvert_exporter": "python",
   "pygments_lexer": "ipython3",
   "version": "3.6.10"
  }
 },
 "nbformat": 4,
 "nbformat_minor": 2
}
