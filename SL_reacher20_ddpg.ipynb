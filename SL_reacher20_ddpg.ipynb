{
 "cells": [
  {
   "cell_type": "markdown",
   "metadata": {},
   "source": [
    "# drlnd Project 2: Continuous Control, Second Version (20 agents)\n",
    "\n",
    "\n",
    "\n",
    "https://github.com/sliao-mi-luku/DeepRL-continuous-control-reachers-udacity-drlnd-p2\n",
    "\n",
    "\n",
    "Reinforcement learning environment by Unity ML-Agents\n",
    "\n",
    "This corresponds to Project #2 of Udacity's Deep Reinforcement Learning Nanodegree (drlnd)\n",
    "\n",
    "https://www.udacity.com/course/deep-reinforcement-learning-nanodegree--nd893\n",
    "\n",
    "The deep deterministeic policy gradients (DDPG) method is implemented for this project\n",
    "\n",
    "**Reference**: this code was inspired by:\n",
    "\n",
    "1. Udacity's GitHub repository **ddpg-pendulum** (ddpg_agent.py)\n",
    "\n",
    "   https://github.com/udacity/deep-reinforcement-learning/tree/master/ddpg-pendulum\n",
    "   \n",
    "   https://github.com/udacity/deep-reinforcement-learning/blob/master/ddpg-pendulum/ddpg_agent.py\n",
    "\n",
    "\n",
    "2. Udacity's drlnd project workspace (jupyter notebook) of Continuous Control"
   ]
  },
  {
   "cell_type": "markdown",
   "metadata": {},
   "source": [
    "## Box 1: Starting the environment\n",
    "\n",
    "Run the box below to import necessary packages.\n",
    "\n",
    "In the command `env = UnityEnvironment(file_name = '...')` paste the path to `Reacher.exe`\n",
    "\n",
    "For example: `env = UnityEnvironment(file_name = './Reacher_20Agent_Windows_x86_64/Reacher.exe')`\n"
   ]
  },
  {
   "cell_type": "code",
   "execution_count": 1,
   "metadata": {},
   "outputs": [
    {
     "name": "stdout",
     "output_type": "stream",
     "text": [
      "\n",
      "Device: cuda:0\n"
     ]
    },
    {
     "name": "stderr",
     "output_type": "stream",
     "text": [
      "INFO:unityagents:\n",
      "'Academy' started successfully!\n",
      "Unity Academy name: Academy\n",
      "        Number of Brains: 1\n",
      "        Number of External Brains : 1\n",
      "        Lesson number : 0\n",
      "        Reset Parameters :\n",
      "\t\tgoal_speed -> 1.0\n",
      "\t\tgoal_size -> 5.0\n",
      "Unity brain name: ReacherBrain\n",
      "        Number of Visual Observations (per agent): 0\n",
      "        Vector Observation space type: continuous\n",
      "        Vector Observation space size (per agent): 33\n",
      "        Number of stacked Vector Observation: 1\n",
      "        Vector Action space type: continuous\n",
      "        Vector Action space size (per agent): 4\n",
      "        Vector Action descriptions: , , , \n"
     ]
    },
    {
     "name": "stdout",
     "output_type": "stream",
     "text": [
      "Number of agents: 20\n",
      "\n",
      "Size of each action: 4\n",
      "\n",
      "There are 20 agents. Each observes a state with length: 33\n",
      "\n",
      "The state for the first agent looks like: [ 0.00000000e+00 -4.00000000e+00  0.00000000e+00  1.00000000e+00\n",
      " -0.00000000e+00 -0.00000000e+00 -4.37113883e-08  0.00000000e+00\n",
      "  0.00000000e+00  0.00000000e+00  0.00000000e+00  0.00000000e+00\n",
      "  0.00000000e+00  0.00000000e+00 -1.00000000e+01  0.00000000e+00\n",
      "  1.00000000e+00 -0.00000000e+00 -0.00000000e+00 -4.37113883e-08\n",
      "  0.00000000e+00  0.00000000e+00  0.00000000e+00  0.00000000e+00\n",
      "  0.00000000e+00  0.00000000e+00  5.75471878e+00 -1.00000000e+00\n",
      "  5.55726624e+00  0.00000000e+00  1.00000000e+00  0.00000000e+00\n",
      " -1.68164849e-01]\n",
      "\n",
      "Box 1 done!\n"
     ]
    }
   ],
   "source": [
    "import torch\n",
    "import numpy as np\n",
    "import matplotlib.pyplot as plt\n",
    "\n",
    "from collections import deque #, namedtuple\n",
    "from unityagents import UnityEnvironment\n",
    "from ddpgAgent import DDPG_Agent\n",
    "from buffer import Buffer\n",
    "from noiseModels import OUNoise, plot_OU\n",
    "\n",
    "device = torch.device(\"cuda:0\" if torch.cuda.is_available() else \"cpu\")\n",
    "print(\"\\nDevice: {}\".format(device))\n",
    "\n",
    "\n",
    "\"\"\"\n",
    "Starting the second version of the project (with 20 agents)\n",
    "\"\"\"\n",
    "# file_name = /the/path/to/Reacher.exe\n",
    "env = UnityEnvironment(file_name = './Reacher_20Agent_Windows_x86_64/Reacher.exe')\n",
    "\n",
    "\n",
    "\"\"\"\n",
    "Environments contain brains which are responsible for deciding the actions of their associated agents\n",
    "\"\"\"\n",
    "# get the default brain\n",
    "brain_name = env.brain_names[0]\n",
    "brain = env.brains[brain_name]\n",
    "\n",
    "\n",
    "\"\"\"\n",
    "The codes below were provided by Udacity, which will display some information of the environment\n",
    "\"\"\"\n",
    "# reset the environment (train_mode is set to False because we're not training)\n",
    "env_info = env.reset(train_mode=False)[brain_name]\n",
    "\n",
    "# number of agents (should be 20)\n",
    "num_agents = len(env_info.agents)\n",
    "print('Number of agents:', num_agents)\n",
    "\n",
    "# size of each action (should be 4)\n",
    "action_size = brain.vector_action_space_size\n",
    "print('\\nSize of each action:', action_size)\n",
    "# examine the state space (should be 33)\n",
    "states = env_info.vector_observations\n",
    "state_size = states.shape[1]\n",
    "print('\\nThere are {} agents. Each observes a state with length: {}'.format(states.shape[0], state_size))\n",
    "print('\\nThe state for the first agent looks like:', states[0])\n",
    "\n",
    "\n",
    "print(\"\\nBox 1 done!\")"
   ]
  },
  {
   "cell_type": "markdown",
   "metadata": {},
   "source": [
    "## Box 2: Setting parameters\n",
    "\n",
    "Run this box to set the parameters"
   ]
  },
  {
   "cell_type": "code",
   "execution_count": 2,
   "metadata": {},
   "outputs": [
    {
     "name": "stdout",
     "output_type": "stream",
     "text": [
      "\n",
      " Box 2 done!\n"
     ]
    }
   ],
   "source": [
    "EPISODES = 1000                   # maximum number of episodes to train\n",
    "\n",
    "PRINT_EVERY = 10                  # print a new line of information every 10 episodes\n",
    "\n",
    "\n",
    "## hyperparameters\n",
    "actor_hidden_sizes = [400, 300]   # input and output sizes of the actor's hidden FC layer\n",
    "critic_hidden_sizes = [400, 300]  # input and output sizes of the critic's hidden FC layer\n",
    "gamma = 0.99                      # discounting\n",
    "actor_lr = 1e-3                   # learning rate of the actor network\n",
    "critic_lr = 1e-4                  # learning rate of the critic network\n",
    "critic_L2_decay = 0.0             # L2 weight decay of the critic network\n",
    "tau = 1e-3                        # the factor used for soft-updating actor/critic target networks\n",
    "\n",
    "\n",
    "## parameters of the noise (Ornstein–Uhlenbeck) process\n",
    "ou_scale = 1.0                    # the initial scaling factor\n",
    "ou_decay = 0.995                  # the decay rate of the scaling factor ou_scale\n",
    "ou_mu = 0.0                       # the asymptotic mean of the noise\n",
    "ou_theta = 0.15                   # the magnitude of the drift term of the noise\n",
    "ou_sigma = 0.10                   # the magnitude of the diffusion term of the noise\n",
    "\n",
    "\n",
    "## parameters of the replay buffer\n",
    "buffer_size = int(1e6)            # the size of the buffer\n",
    "batch_size = 512                  # the size of the sampling batch\n",
    "\n",
    "\n",
    "## Dictionary to pass into the DDPG_Agent to create the agent\n",
    "config = {}\n",
    "config['actor_input_size'] = 33                         # dimension of the state\n",
    "config['actor_output_size'] = 4                         # dimension of the action\n",
    "config['actor_hidden_sizes'] = actor_hidden_sizes\n",
    "config['critic_state_size'] = 33                        # dimension of the state\n",
    "config['critic_action_size'] = 4                        # dimension of the action\n",
    "config['critic_hidden_sizes'] = critic_hidden_sizes\n",
    "config['actor_lr'] = actor_lr\n",
    "config['critic_lr'] = critic_lr\n",
    "config['critic_L2_decay'] = critic_L2_decay\n",
    "config['gamma'] = gamma\n",
    "config['tau'] = tau\n",
    "\n",
    "\n",
    "print(\"\\n Box 2 done!\")"
   ]
  },
  {
   "cell_type": "markdown",
   "metadata": {},
   "source": [
    "## Box 3: Deep Deterministic Policy Gradients (DDPG)\n",
    "\n",
    "Run this box to train the agent"
   ]
  },
  {
   "cell_type": "code",
   "execution_count": 3,
   "metadata": {
    "scrolled": true
   },
   "outputs": [
    {
     "name": "stdout",
     "output_type": "stream",
     "text": [
      "Simulation of the noise Process:\n"
     ]
    },
    {
     "data": {
      "image/png": "[encoded data removed]",
      "text/plain": [
       "<Figure size 432x288 with 1 Axes>"
      ]
     },
     "metadata": {
      "needs_background": "light"
     },
     "output_type": "display_data"
    },
    {
     "name": "stdout",
     "output_type": "stream",
     "text": [
      "\n",
      "\n",
      "Episode 10\tScore: 1.79\tAvg: 1.09\tA_loss: -0.1077\tC_loss: 0.00003851\tou: 0.007\n",
      "Episode 20\tScore: 6.52\tAvg: 2.76\tA_loss: -0.1587\tC_loss: 0.00009646\tou: -0.005\n",
      "Episode 30\tScore: 34.25\tAvg: 9.65\tA_loss: -0.3326\tC_loss: 0.00104628\tou: -0.015\n",
      "Episode 40\tScore: 39.45\tAvg: 16.89\tA_loss: -0.7009\tC_loss: 0.00078859\tou: -0.024\n",
      "Episode 50\tScore: 39.54\tAvg: 21.42\tA_loss: -1.1397\tC_loss: 0.00121415\tou: 0.0082\n",
      "Episode 60\tScore: 39.56\tAvg: 24.44\tA_loss: -1.6208\tC_loss: 0.00043111\tou: 0.0310\n",
      "Episode 70\tScore: 39.44\tAvg: 26.59\tA_loss: -2.0201\tC_loss: 0.00022306\tou: 0.0100\n",
      "Episode 80\tScore: 39.32\tAvg: 28.20\tA_loss: -2.3019\tC_loss: 0.00011532\tou: 0.0101\n",
      "Episode 90\tScore: 38.69\tAvg: 29.41\tA_loss: -2.5082\tC_loss: 0.00006242\tou: -0.006\n",
      "Episode 100\tScore: 39.22\tAvg: 30.37\tA_loss: -2.6831\tC_loss: 0.00008401\tou: -0.000\n",
      "\n",
      "\n",
      "Environment is solved after 0 episodes\n"
     ]
    },
    {
     "data": {
      "image/png": "[encoded data removed]",
      "text/plain": [
       "<Figure size 432x288 with 1 Axes>"
      ]
     },
     "metadata": {
      "needs_background": "light"
     },
     "output_type": "display_data"
    }
   ],
   "source": [
    "# set ou_scale = 1.0 again in case this box is executed more than once\n",
    "ou_scale = 1.0\n",
    "\n",
    "\n",
    "## DDPG\n",
    "score_deque = deque(maxlen = 100)\n",
    "score_list = []\n",
    "\n",
    "AL_list = [] # to store the actor_loss of each episode\n",
    "CL_list = [] # to store the critic_loss of each episode\n",
    "\n",
    "# create the replay buffer\n",
    "buffer = Buffer(buffer_size, batch_size)\n",
    "\n",
    "# create the ddpg agent\n",
    "agent = DDPG_Agent(config)\n",
    "\n",
    "# create the noise process\n",
    "noise_process = OUNoise(int(num_agents*4), ou_mu, ou_theta, ou_sigma)\n",
    "\n",
    "print(\"Simulation of the noise Process:\")\n",
    "plot_OU(EPISODES, ou_scale, ou_decay, 1, ou_mu, ou_theta, ou_sigma)\n",
    "print(\"\\n\")\n",
    "\n",
    "\n",
    "for ep in range(1, EPISODES+1):\n",
    "    \n",
    "    # env information\n",
    "    env_info = env.reset(train_mode = True)[brain_name]\n",
    "    # initial states\n",
    "    states = env_info.vector_observations\n",
    "    \n",
    "    score = 0\n",
    "    t_step = 0\n",
    "    \n",
    "    # reset the noise process\n",
    "    noise_process.reset()\n",
    "    \n",
    "    while True:\n",
    "        t_step += 1\n",
    "        \n",
    "        \"\"\"\n",
    "        Data collection\n",
    "        \"\"\"\n",
    "        # observe the state (tensor)\n",
    "        states_t = torch.from_numpy(states).float().to(device)\n",
    "        \n",
    "        # generate noise\n",
    "        noise = noise_process.get_noise().reshape((num_agents, 4)) # [num_agents, 4]\n",
    "        noise *= ou_scale\n",
    "        #noise = np.multiply(noise, np.random.choice([1, -1], size = (num_agents, 4)))\n",
    "            \n",
    "        # take actions (actions_t is tensor)\n",
    "        actions_t = agent.act(states_t, actor_name = 'local', noise_bool = True, noise_np = noise) # [num_agents, 4]\n",
    "        # convert to numpy\n",
    "        actions = actions_t.detach().cpu().numpy()\n",
    "        \n",
    "        # noise_display: the average noise generated\n",
    "        noise_display = np.round(np.mean(noise), 3)\n",
    "        \n",
    "        # interact with the environment\n",
    "        env_info = env.step(actions)[brain_name]\n",
    "        next_states = env_info.vector_observations\n",
    "        rewards = env_info.rewards\n",
    "        dones = env_info.local_done\n",
    "        \n",
    "        # add (states, actions, rewards, next_states, dones) into the replay buffer\n",
    "        for agent_i in range(num_agents):\n",
    "            buffer.add(states[agent_i], actions[agent_i], rewards[agent_i], next_states[agent_i], dones[agent_i])\n",
    "        \n",
    "        # average the rewards among all agents and update the total score\n",
    "        score += np.mean(np.array(rewards))\n",
    "        \n",
    "        # advance to the next state\n",
    "        states = next_states\n",
    "        \n",
    "        \n",
    "        \"\"\"\n",
    "        Policy learning\n",
    "        \"\"\"\n",
    "        # train actor and critic if we have enough replays in the buffer\n",
    "        if len(buffer) >= batch_size:\n",
    "            # sample replays\n",
    "            replays = buffer.sample()\n",
    "            # train the agent\n",
    "            agent.learn(replays)\n",
    "        \n",
    "        # end the episode if at least one agent is in the terminal state\n",
    "        if np.any(dones):\n",
    "            break\n",
    "    \n",
    "    \n",
    "    # record the score (average over agents) of the episode\n",
    "    score_list.append(score)\n",
    "    score_deque.append(score)\n",
    "    \n",
    "    # average score of the past 100 episodes\n",
    "    AVG_100 = np.mean(score_deque)\n",
    "    # actor loss\n",
    "    aloss = np.round(agent.current_actor_loss, 4)\n",
    "    # critic loss\n",
    "    closs = np.round(agent.current_critic_loss, 8)\n",
    "    \n",
    "    \n",
    "    # print the information\n",
    "    print(\"\\rEpisode {}\\tScore: {:.2f}\\tAvg: {:.2f}\\tA_loss: {:.4f}\\tC_loss: {:.8f}\\tou: {:.3f}\".format(\n",
    "        ep, score, AVG_100, aloss, closs, noise_display), end=\"\")\n",
    "    \n",
    "    # print a new line for every PRINT_EVERY epiodes\n",
    "    if ep % PRINT_EVERY == 0:\n",
    "        print(\"\\rEpisode {}\\tScore: {:.2f}\\tAvg: {:.2f}\\tA_loss: {:.4f}\\tC_loss: {:.8f}\\tou: {:.3f}\".format(\n",
    "            ep, score, AVG_100, aloss, closs, noise_display))\n",
    "    \n",
    "    # the condition when the task is considered solved\n",
    "    if AVG_100 > 30 and len(score_deque) >= 100:\n",
    "        print(\"\\n\\nEnvironment is solved after {} episodes\".format(ep - 100))\n",
    "        break\n",
    "    \n",
    "    \n",
    "    # update the loss history\n",
    "    AL_list.append(aloss)\n",
    "    CL_list.append(closs)\n",
    "    \n",
    "    # decrease the scaling factor of the noise\n",
    "    ou_scale *= ou_decay\n",
    "    \n",
    "\n",
    "## Save the weights\n",
    "torch.save(agent.actor_local.state_dict(), 'checkpoint_actor.pth')\n",
    "torch.save(agent.critic_local.state_dict(), 'checkpoint_critic.pth')\n",
    "\n",
    "## Plot the score of each episode\n",
    "plt.figure()\n",
    "plt.plot(range(len(score_list)), score_list)\n",
    "plt.plot([0, len(score_list)-1], [30.0, 30.0], 'r--')\n",
    "plt.title(\"Score history\")\n",
    "plt.xlabel(\"Episodes\")\n",
    "plt.ylabel(\"Score\")\n",
    "plt.show()\n"
   ]
  },
  {
   "cell_type": "markdown",
   "metadata": {},
   "source": [
    "## Box 4: Loading trained weights\n",
    "\n",
    "Run the box below to use the pre-trained weights to watch the agent perform\n",
    "\n",
    "Make sure that **Box 1** and **Box 2** was run before running this box!"
   ]
  },
  {
   "cell_type": "code",
   "execution_count": 4,
   "metadata": {},
   "outputs": [
    {
     "name": "stdout",
     "output_type": "stream",
     "text": [
      "Total score (averaged over agents) this episode: 37.86\n"
     ]
    }
   ],
   "source": [
    "## Test the saved weights\n",
    "\n",
    "# create the agent\n",
    "agent = DDPG_Agent(config)\n",
    "\n",
    "# load the pre-trained weights from the working directory (change the file name if needed)\n",
    "actor_weights = torch.load('checkpoint_actor.pth')\n",
    "critic_weights = torch.load('checkpoint_critic.pth')\n",
    "\n",
    "# load the pre-trained weights into the agent\n",
    "agent.actor_local.load_state_dict(actor_weights)\n",
    "agent.critic_local.load_state_dict(critic_weights)\n",
    "\n",
    "# initialize the environment\n",
    "env_info = env.reset(train_mode = False)[brain_name]\n",
    "\n",
    "# initial state\n",
    "states = env_info.vector_observations\n",
    "\n",
    "# score of the episode\n",
    "score = 0\n",
    "\n",
    "while True:\n",
    "    states_t = torch.from_numpy(states).float().to(device)\n",
    "    actions = agent.actor_local(states_t).cpu().detach().numpy() # converted to ndarray\n",
    "    env_info = env.step(actions)[brain_name] \n",
    "    next_states = env_info.vector_observations\n",
    "    rewards = env_info.rewards\n",
    "    dones = env_info.local_done \n",
    "    score += sum(rewards)/20.0 # average reward over the 20 agents\n",
    "    states = next_states\n",
    "    if np.any(dones):\n",
    "        break\n",
    "        \n",
    "print('Total score (averaged over agents) this episode: {:.2f}'.format(score))\n"
   ]
  },
  {
   "cell_type": "markdown",
   "metadata": {},
   "source": [
    "Lastly, please run the command below to close the environment"
   ]
  },
  {
   "cell_type": "code",
   "execution_count": 5,
   "metadata": {},
   "outputs": [],
   "source": [
    "env.close()"
   ]
  },
  {
   "cell_type": "code",
   "execution_count": null,
   "metadata": {},
   "outputs": [],
   "source": []
  }
 ],
 "metadata": {
  "kernelspec": {
   "display_name": "drlnd",
   "language": "python",
   "name": "drlnd"
  },
  "language_info": {
   "codemirror_mode": {
    "name": "ipython",
    "version": 3
   },
   "file_extension": ".py",
   "mimetype": "text/x-python",
   "name": "python",
   "nbconvert_exporter": "python",
   "pygments_lexer": "ipython3",
   "version": "3.6.10"
  }
 },
 "nbformat": 4,
 "nbformat_minor": 2
}
